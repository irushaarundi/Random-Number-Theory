{
 "cells": [
  {
   "cell_type": "code",
   "execution_count": 13,
   "metadata": {},
   "outputs": [],
   "source": [
    "import numpy as np\n",
    "import matplotlib.pyplot as plt"
   ]
  },
  {
   "cell_type": "code",
   "execution_count": 14,
   "metadata": {},
   "outputs": [],
   "source": [
    "def LCG(X0, m, c, a, N):\n",
    "    rand_num = []\n",
    "    Xt = X0\n",
    "    for _ in range(N):\n",
    "        Xt = (a*Xt + c)%m\n",
    "        rand_num.append(Xt/m)\n",
    "    return rand_num"
   ]
  },
  {
   "cell_type": "code",
   "execution_count": 15,
   "metadata": {},
   "outputs": [],
   "source": [
    "X0=100\n",
    "a= 16807\n",
    "m=2147483647\n",
    "c=0\n",
    "N=1000\n",
    "R =LCG(X0, m, c, a, N)"
   ]
  },
  {
   "cell_type": "code",
   "execution_count": 26,
   "metadata": {},
   "outputs": [],
   "source": [
    "alpha = 0.4\n",
    "beta = 0.6\n",
    "T=[0]\n",
    "for i in range(N):\n",
    "    if alpha < R[i] < beta:\n",
    "        T.append(i)        \n",
    "Z=[]\n",
    "for i in range(1,len(T)):    \n",
    "    K=(T[i] - T[i-1]) -1\n",
    "    Z.append(K)\n"
   ]
  },
  {
   "cell_type": "code",
   "execution_count": 35,
   "metadata": {},
   "outputs": [
    {
     "data": {
      "text/plain": [
       "[1,\n",
       " 6,\n",
       " 3,\n",
       " 14,\n",
       " 10,\n",
       " 7,\n",
       " 5,\n",
       " 6,\n",
       " 0,\n",
       " 9,\n",
       " 3,\n",
       " 5,\n",
       " 0,\n",
       " 4,\n",
       " 7,\n",
       " 3,\n",
       " 8,\n",
       " 1,\n",
       " 1,\n",
       " 1,\n",
       " 3,\n",
       " 2,\n",
       " 1,\n",
       " 10,\n",
       " 4,\n",
       " 1,\n",
       " 5,\n",
       " 2,\n",
       " 20,\n",
       " 3,\n",
       " 1,\n",
       " 1,\n",
       " 5,\n",
       " 5,\n",
       " 2,\n",
       " 4,\n",
       " 3,\n",
       " 3,\n",
       " 1,\n",
       " 5,\n",
       " 5,\n",
       " 1,\n",
       " 6,\n",
       " 5,\n",
       " 1,\n",
       " 0,\n",
       " 4,\n",
       " 13,\n",
       " 3,\n",
       " 1,\n",
       " 10,\n",
       " 8,\n",
       " 12,\n",
       " 1,\n",
       " 18,\n",
       " 5,\n",
       " 9,\n",
       " 10,\n",
       " 7,\n",
       " 7,\n",
       " 0,\n",
       " 7,\n",
       " 0,\n",
       " 9,\n",
       " 3,\n",
       " 0,\n",
       " 7,\n",
       " 2,\n",
       " 1,\n",
       " 0,\n",
       " 5,\n",
       " 6,\n",
       " 1,\n",
       " 10,\n",
       " 1,\n",
       " 15,\n",
       " 4,\n",
       " 1,\n",
       " 1,\n",
       " 2,\n",
       " 2,\n",
       " 2,\n",
       " 1,\n",
       " 2,\n",
       " 5,\n",
       " 4,\n",
       " 5,\n",
       " 1,\n",
       " 15,\n",
       " 2,\n",
       " 0,\n",
       " 3,\n",
       " 1,\n",
       " 1,\n",
       " 8,\n",
       " 4,\n",
       " 1,\n",
       " 3,\n",
       " 0,\n",
       " 5,\n",
       " 11,\n",
       " 0,\n",
       " 2,\n",
       " 6,\n",
       " 12,\n",
       " 3,\n",
       " 0,\n",
       " 2,\n",
       " 0,\n",
       " 7,\n",
       " 0,\n",
       " 4,\n",
       " 7,\n",
       " 3,\n",
       " 9,\n",
       " 0,\n",
       " 21,\n",
       " 3,\n",
       " 1,\n",
       " 9,\n",
       " 5,\n",
       " 13,\n",
       " 2,\n",
       " 8,\n",
       " 8,\n",
       " 10,\n",
       " 0,\n",
       " 5,\n",
       " 9,\n",
       " 1,\n",
       " 4,\n",
       " 12,\n",
       " 0,\n",
       " 0,\n",
       " 12,\n",
       " 4,\n",
       " 1,\n",
       " 1,\n",
       " 0,\n",
       " 0,\n",
       " 2,\n",
       " 7,\n",
       " 4,\n",
       " 15,\n",
       " 18,\n",
       " 4,\n",
       " 14,\n",
       " 5,\n",
       " 21,\n",
       " 1,\n",
       " 7,\n",
       " 5,\n",
       " 4,\n",
       " 4,\n",
       " 1,\n",
       " 2,\n",
       " 0,\n",
       " 0,\n",
       " 1,\n",
       " 3,\n",
       " 0,\n",
       " 2,\n",
       " 0,\n",
       " 3,\n",
       " 0,\n",
       " 0,\n",
       " 1,\n",
       " 2,\n",
       " 1,\n",
       " 3,\n",
       " 11,\n",
       " 4,\n",
       " 0,\n",
       " 1,\n",
       " 0,\n",
       " 1,\n",
       " 1,\n",
       " 0,\n",
       " 6,\n",
       " 6,\n",
       " 4,\n",
       " 0,\n",
       " 12]"
      ]
     },
     "execution_count": 35,
     "metadata": {},
     "output_type": "execute_result"
    }
   ],
   "source": [
    "Z"
   ]
  },
  {
   "cell_type": "code",
   "execution_count": 28,
   "metadata": {},
   "outputs": [],
   "source": [
    "r=7 #gap\n",
    "P1=[]\n",
    "P2=[]\n",
    "for i in range(len(Z)):\n",
    "    if Z[i] > r:\n",
    "        P1.append(Z[i])\n",
    "    else:\n",
    "        P2.append(Z[i])"
   ]
  },
  {
   "cell_type": "code",
   "execution_count": 29,
   "metadata": {},
   "outputs": [],
   "source": [
    "r=7\n",
    "P=[]\n",
    "count = np.zeros((r+1))\n",
    "for i in range(len(Z)):\n",
    "    for j in range(r):\n",
    "        if j == Z[i]:\n",
    "            count[j] += 1"
   ]
  },
  {
   "cell_type": "code",
   "execution_count": 30,
   "metadata": {},
   "outputs": [
    {
     "data": {
      "text/plain": [
       "array([29., 35., 16., 17., 16., 17.,  7.,  0.])"
      ]
     },
     "execution_count": 30,
     "metadata": {},
     "output_type": "execute_result"
    }
   ],
   "source": [
    "count"
   ]
  },
  {
   "cell_type": "code",
   "execution_count": 31,
   "metadata": {},
   "outputs": [],
   "source": [
    "P1=[]\n",
    "for i in range(len(Z)):\n",
    "    if Z[i] >= r:\n",
    "        P1.append(Z[i])\n",
    "count[-1]=len(P1)"
   ]
  },
  {
   "cell_type": "code",
   "execution_count": 32,
   "metadata": {},
   "outputs": [],
   "source": [
    "Expected = np.zeros(len(count))\n",
    "p=beta - alpha\n",
    "for i in range(len(count)):\n",
    "    if i<r:\n",
    "        Expected[i]=p*(1-p)**i\n",
    "    else:\n",
    "        Expected[i]=(1-p)**r\n"
   ]
  },
  {
   "cell_type": "code",
   "execution_count": 33,
   "metadata": {},
   "outputs": [
    {
     "data": {
      "text/plain": [
       "array([29., 35., 16., 17., 16., 17.,  7., 46.])"
      ]
     },
     "execution_count": 33,
     "metadata": {},
     "output_type": "execute_result"
    }
   ],
   "source": [
    "count"
   ]
  },
  {
   "cell_type": "code",
   "execution_count": 34,
   "metadata": {},
   "outputs": [
    {
     "name": "stdout",
     "output_type": "stream",
     "text": [
      "Test Statistic is:  0.0523688602740825\n",
      "Critical value is:  12.591587243743977\n",
      "Accept IID U(0,1) \n"
     ]
    }
   ],
   "source": [
    "from scipy.stats import chi2\n",
    "Observed = count/np.sum(count)\n",
    "Test_stat =np.sum((((Expected-Observed)**2)/Expected)) \n",
    "print(\"Test Statistic is: \", Test_stat)\n",
    "df = r-1\n",
    "signi_level = 0.05\n",
    "#alpha value is 95%\n",
    "#consider as ontailed test\n",
    "# Find the critical value\n",
    "critical_value = chi2.ppf(1-signi_level, df)\n",
    "print(\"Critical value is: \", critical_value)\n",
    "\n",
    "if critical_value <= Test_stat:\n",
    "    print(\"Can't accept IID U(0,1)\" )\n",
    "else:\n",
    "    print(\"Accept IID U(0,1) \")"
   ]
  },
  {
   "cell_type": "code",
   "execution_count": null,
   "metadata": {},
   "outputs": [],
   "source": []
  }
 ],
 "metadata": {
  "kernelspec": {
   "display_name": "scs3201",
   "language": "python",
   "name": "python3"
  },
  "language_info": {
   "codemirror_mode": {
    "name": "ipython",
    "version": 3
   },
   "file_extension": ".py",
   "mimetype": "text/x-python",
   "name": "python",
   "nbconvert_exporter": "python",
   "pygments_lexer": "ipython3",
   "version": "3.10.12"
  }
 },
 "nbformat": 4,
 "nbformat_minor": 2
}
