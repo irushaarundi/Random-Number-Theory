{
 "cells": [
  {
   "cell_type": "code",
   "execution_count": 1,
   "metadata": {},
   "outputs": [],
   "source": [
    "import numpy as np"
   ]
  },
  {
   "cell_type": "code",
   "execution_count": 2,
   "metadata": {},
   "outputs": [],
   "source": [
    "def LCG(X0, a, m, c, N):\n",
    "    rand_num=[]\n",
    "    Xt=X0\n",
    "    for _ in range(N):\n",
    "        Xt = (Xt*a + c)%m\n",
    "        rand_num.append(Xt/m)\n",
    "    return rand_num"
   ]
  },
  {
   "cell_type": "code",
   "execution_count": 3,
   "metadata": {},
   "outputs": [],
   "source": [
    "X0=100\n",
    "a= 16807\n",
    "m=2147483647\n",
    "c=0\n",
    "N=1000\n",
    "LCG_rand_num = LCG(X0, a, m, c, N)"
   ]
  },
  {
   "cell_type": "code",
   "execution_count": 4,
   "metadata": {},
   "outputs": [],
   "source": [
    "sorted_numbers = sorted(LCG_rand_num)"
   ]
  },
  {
   "cell_type": "code",
   "execution_count": 43,
   "metadata": {},
   "outputs": [],
   "source": [
    "k1=[]\n",
    "k2=[]\n",
    "for i in range(N):\n",
    "    D1 = abs(i/N - sorted_numbers[i])\n",
    "    D2 = abs(sorted_numbers[i] -((i-1)/N))\n",
    "    k1.append(D1)\n",
    "    k2.append(D2)"
   ]
  },
  {
   "cell_type": "code",
   "execution_count": 44,
   "metadata": {},
   "outputs": [],
   "source": [
    "Test_statistic=max(max(k1),max(k2))"
   ]
  },
  {
   "cell_type": "code",
   "execution_count": 53,
   "metadata": {},
   "outputs": [],
   "source": [
    "Critical_value = 1.36/np.power(N,0.5)\n",
    "alpha=0.95\n",
    "# one tailed test"
   ]
  },
  {
   "cell_type": "code",
   "execution_count": 54,
   "metadata": {},
   "outputs": [
    {
     "name": "stdout",
     "output_type": "stream",
     "text": [
      "Accept IID U(0,1)\n"
     ]
    }
   ],
   "source": [
    "if Critical_value<= Test_statistic:\n",
    "    print(\"Can't accept IID U(0,1)\")\n",
    "else:\n",
    "    print(\"Accept IID U(0,1)\")"
   ]
  },
  {
   "cell_type": "code",
   "execution_count": 113,
   "metadata": {},
   "outputs": [],
   "source": [
    "F = np.random.rand(1, 3)\n",
    "count=np.zeros(3)\n",
    "for num in LCG_rand_num:\n",
    "        for i in range(3):\n",
    "                if num < F[0,i]:\n",
    "                        count[1]+=1\n"
   ]
  },
  {
   "cell_type": "code",
   "execution_count": 124,
   "metadata": {},
   "outputs": [],
   "source": [
    "S= count/N"
   ]
  },
  {
   "cell_type": "code",
   "execution_count": 120,
   "metadata": {},
   "outputs": [],
   "source": [
    "D=(abs(F-S))"
   ]
  },
  {
   "cell_type": "code",
   "execution_count": 121,
   "metadata": {},
   "outputs": [],
   "source": [
    "Critical_value = 1.36/np.power(N,0.5)\n",
    "alpha=0.95\n",
    "# one tailed test"
   ]
  },
  {
   "cell_type": "code",
   "execution_count": 127,
   "metadata": {},
   "outputs": [
    {
     "name": "stdout",
     "output_type": "stream",
     "text": [
      "Can't accept IID U(0,1)\n"
     ]
    }
   ],
   "source": [
    "if Critical_value<= max(D):\n",
    "    print(\"Can't accept IID U(0,1)\")\n",
    "else:\n",
    "    print(\"Accept IID U(0,1)\")"
   ]
  }
 ],
 "metadata": {
  "kernelspec": {
   "display_name": "scs3201",
   "language": "python",
   "name": "python3"
  },
  "language_info": {
   "codemirror_mode": {
    "name": "ipython",
    "version": 3
   },
   "file_extension": ".py",
   "mimetype": "text/x-python",
   "name": "python",
   "nbconvert_exporter": "python",
   "pygments_lexer": "ipython3",
   "version": "3.10.12"
  }
 },
 "nbformat": 4,
 "nbformat_minor": 2
}
