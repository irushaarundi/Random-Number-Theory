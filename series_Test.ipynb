{
 "cells": [
  {
   "cell_type": "code",
   "execution_count": 69,
   "metadata": {},
   "outputs": [],
   "source": [
    "import numpy as np\n",
    "import matplotlib.pyplot as plt"
   ]
  },
  {
   "cell_type": "code",
   "execution_count": 70,
   "metadata": {},
   "outputs": [],
   "source": [
    "def LCG(X0, a, m, c, N):\n",
    "    Xt=X0\n",
    "    rand_num=[]\n",
    "    for _ in range(N):\n",
    "        Xt = (a*Xt +c)% m\n",
    "        rand_num.append(Xt/m)\n",
    "    return rand_num\n"
   ]
  },
  {
   "cell_type": "code",
   "execution_count": 71,
   "metadata": {},
   "outputs": [],
   "source": [
    "X0=100\n",
    "a= 16807\n",
    "m=2147483647\n",
    "c=0\n",
    "N=1000\n",
    "LCG_rand_num = LCG(X0, a, m, c, N)"
   ]
  },
  {
   "cell_type": "code",
   "execution_count": 72,
   "metadata": {},
   "outputs": [],
   "source": [
    "k=7\n",
    "V = np.zeros((k+1,k+1))\n",
    "for i in range(0,N,2):\n",
    "    for j in range(1,k+1):\n",
    "        for l in range(1,k+1):\n",
    "            if (1/k)*(j-1) <= LCG_rand_num[i] < (1/k)*(j):\n",
    "             if (1/k)*(l-1) <= LCG_rand_num[i+1] < (1/k)*(l):\n",
    "                V[j][l] = V[j][l] + 1"
   ]
  },
  {
   "cell_type": "code",
   "execution_count": 78,
   "metadata": {},
   "outputs": [
    {
     "name": "stdout",
     "output_type": "stream",
     "text": [
      "The Test Satistic is:  41.352\n",
      "Critical value is:  69.02258578966607\n",
      "Accept IID U(0,1) \n"
     ]
    }
   ],
   "source": [
    "from scipy.stats import chi2\n",
    "Observed = V[1:,1:]\n",
    "Expected = (N/(2*k**2))*np.ones((k,k))\n",
    "Test_stat =np.sum((((Observed - Expected)**2)/Expected)) \n",
    "print(\"The Test Satistic is: \", Test_stat)\n",
    "\n",
    "df = (k**2)-1\n",
    "# if alpha is 95% significant value consider as 0.025 because series test is consider as two tailed test\n",
    "signi_level = 0.025\n",
    "\n",
    "# Find the critical value\n",
    "critical_value = chi2.ppf(1-signi_level, df)\n",
    "print(\"Critical value is: \", critical_value)\n",
    "\n",
    "if critical_value <= Test_stat :\n",
    "    print(\"Can't accept IID U(0,1)\" )\n",
    "else:\n",
    "    print(\"Accept IID U(0,1) \")"
   ]
  }
 ],
 "metadata": {
  "kernelspec": {
   "display_name": "scs3201",
   "language": "python",
   "name": "python3"
  },
  "language_info": {
   "codemirror_mode": {
    "name": "ipython",
    "version": 3
   },
   "file_extension": ".py",
   "mimetype": "text/x-python",
   "name": "python",
   "nbconvert_exporter": "python",
   "pygments_lexer": "ipython3",
   "version": "3.10.12"
  }
 },
 "nbformat": 4,
 "nbformat_minor": 2
}
